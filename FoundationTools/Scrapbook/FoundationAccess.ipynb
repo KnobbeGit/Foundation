{
 "cells": [
  {
   "cell_type": "markdown",
   "id": "c0f91de2",
   "metadata": {},
   "source": [
    "Foundation API Information\n",
    "--"
   ]
  },
  {
   "cell_type": "code",
   "execution_count": 1,
   "id": "14b28802",
   "metadata": {},
   "outputs": [],
   "source": [
    "# initialize libraries\n",
    "import requests\n",
    "from requests import api\n",
    "from requests.models import Response\n",
    "import json\n",
    "import bcrypt\n",
    "from datetime import datetime, timezone\n",
    "from pprint import pprint\n",
    "from tabulate import tabulate\n",
    "import csv\n",
    "import os\n",
    "from dotenv import load_dotenv\n"
   ]
  },
  {
   "cell_type": "code",
   "execution_count": 2,
   "id": "886eb2f9",
   "metadata": {},
   "outputs": [],
   "source": [
    "# Define the base URL and API key for the Foundation API\n",
    "load_dotenv()\n",
    "\n",
    "base_url = os.getenv('BASE_URL')\n",
    "api_key = os.getenv('API_KEY')\n",
    "api_key_value = os.getenv('API_KEY_VALUE')\n"
   ]
  },
  {
   "cell_type": "code",
   "execution_count": 3,
   "id": "84224a41",
   "metadata": {},
   "outputs": [
    {
     "name": "stdout",
     "output_type": "stream",
     "text": [
      "Base URL: https://knobbestaging.foundation.litera.com/\n",
      "API Key: knobbe-apikey\n",
      "API Key Value: 0f500c90-9df1-4bd4-b789-b89f1a1bcf65\n"
     ]
    }
   ],
   "source": [
    "print(f\"Base URL: {base_url}\")\n",
    "print(f\"API Key: {api_key}\")\n",
    "print(f\"API Key Value: {api_key_value}\")"
   ]
  },
  {
   "cell_type": "code",
   "execution_count": 4,
   "id": "8c34e5e2",
   "metadata": {},
   "outputs": [],
   "source": [
    "def get_foundation_headers():\n",
    "    # Use bcrypt to hash the API key with a timestamp per Litera documentation\n",
    "    instant_timestamp = datetime.now(timezone.utc).strftime(\"%Y-%m-%dT%H:%M:%S.%fZ\")[:-1] + \"0Z\"  \n",
    "    #instant_timestamp = datetime.utcnow().strftime(\"%Y-%m-%dT%H:%M:%S.%fZ\")[:-1] + \"0Z\"  # Ensures 7 places after decimal\n",
    "    combined = api_key_value + \"|\" + instant_timestamp\n",
    "    salt = bcrypt.gensalt()\n",
    "    hashed = bcrypt.hashpw(combined.encode('utf-8'), salt)\n",
    "    hashed_key = hashed, instant_timestamp\n",
    "    result = {'x-foundation-api-key': api_key, 'x-foundation-timestamp': hashed_key[1], 'x-foundation-api-auth': hashed_key[0], \"accept\":\"application/json\"}\n",
    "    return result"
   ]
  },
  {
   "cell_type": "code",
   "execution_count": 9,
   "id": "89c1b552",
   "metadata": {},
   "outputs": [],
   "source": [
    "# Function to get metadata from the Foundation metadata API endpoint\n",
    "def get_foundation_metadata():\n",
    "    headers = get_foundation_headers()\n",
    "    url = f\"{base_url}api/v1/application/metadata\"\n",
    "    response = requests.get(url, headers=headers, verify=False)\n",
    "    \n",
    "    if response.status_code == 200:\n",
    "        metadata = response.json()\n",
    "        # pprint(metadata)\n",
    "        return metadata\n",
    "    else:\n",
    "        print(f\"Error: {response.status_code} - {response.text}\")\n",
    "        return None"
   ]
  },
  {
   "cell_type": "code",
   "execution_count": null,
   "id": "ae0e091f",
   "metadata": {},
   "outputs": [],
   "source": [
    "# load metadata\n",
    "metadata = get_foundation_metadata()\n",
    "print(f\"Metadata: {metadata}\")\n"
   ]
  }
 ],
 "metadata": {
  "kernelspec": {
   "display_name": "base",
   "language": "python",
   "name": "python3"
  },
  "language_info": {
   "codemirror_mode": {
    "name": "ipython",
    "version": 3
   },
   "file_extension": ".py",
   "mimetype": "text/x-python",
   "name": "python",
   "nbconvert_exporter": "python",
   "pygments_lexer": "ipython3",
   "version": "3.10.9"
  }
 },
 "nbformat": 4,
 "nbformat_minor": 5
}

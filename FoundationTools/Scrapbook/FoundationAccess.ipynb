{
 "cells": [
  {
   "cell_type": "markdown",
   "id": "c0f91de2",
   "metadata": {},
   "source": [
    "Foundation API Information\n",
    "--"
   ]
  },
  {
   "cell_type": "code",
   "execution_count": null,
   "id": "14b28802",
   "metadata": {},
   "outputs": [],
   "source": [
    "# initialize libraries\n",
    "import requests\n",
    "from requests import api\n",
    "from requests.models import Response\n",
    "from dotenv import load_dotenv, dotenv_values\n",
    "import json\n",
    "import bcrypt\n",
    "from datetime import datetime, timezone\n",
    "from pprint import pprint\n",
    "from tabulate import tabulate\n",
    "import csv\n",
    "import os\n"
   ]
  },
  {
   "cell_type": "code",
   "execution_count": null,
   "id": "886eb2f9",
   "metadata": {},
   "outputs": [],
   "source": [
    "# Define the base URL and API key for the Foundation API\n",
    "load_dotenv()\n",
    "\n",
    "base_url = os.getenv('BASE_URL')\n",
    "api_key = os.getenv('API_KEY')\n",
    "api_key_value = os.getenv('API_KEY_VALUE')\n"
   ]
  },
  {
   "cell_type": "code",
   "execution_count": null,
   "id": "8c34e5e2",
   "metadata": {},
   "outputs": [],
   "source": [
    "# Use bcrypt to hash the API key with a timestamp per Litera documentation\n",
    "def get_foundation_headers():\n",
    "    instant_timestamp = datetime.now(timezone.utc).strftime(\"%Y-%m-%dT%H:%M:%S.%fZ\")[:-1] + \"0Z\"  \n",
    "    combined = api_key_value + \"|\" + instant_timestamp\n",
    "    salt = bcrypt.gensalt()\n",
    "    hashed = bcrypt.hashpw(combined.encode('utf-8'), salt)\n",
    "    hashed_key = hashed, instant_timestamp\n",
    "    result = {'x-foundation-api-key': api_key, 'x-foundation-timestamp': hashed_key[1], 'x-foundation-api-auth': hashed_key[0], \"accept\":\"application/json\"}\n",
    "    return result"
   ]
  },
  {
   "cell_type": "code",
   "execution_count": null,
   "id": "89c1b552",
   "metadata": {},
   "outputs": [],
   "source": [
    "# Get metadata from the Foundation Metadata API endpoint and return it as JSON\n",
    "def get_foundation_metadata():\n",
    "    headers = get_foundation_headers()\n",
    "    url = f\"{base_url}api/v1/application/metadata\"\n",
    "    response = requests.get(url, headers=headers) #, verify=False\n",
    "    \n",
    "    if response.status_code == 200:\n",
    "        metadata = response.json()\n",
    "        return metadata\n",
    "    else:\n",
    "        print(f\"Error: {response.status_code} - {response.text}\")\n",
    "        return None"
   ]
  },
  {
   "cell_type": "code",
   "execution_count": null,
   "id": "ae0e091f",
   "metadata": {},
   "outputs": [],
   "source": [
    "# Download the metadata as a Python dictionary\n",
    "data = json.loads(json.dumps(get_foundation_metadata(), indent=4))"
   ]
  },
  {
   "cell_type": "code",
   "execution_count": null,
   "id": "f2af6625",
   "metadata": {},
   "outputs": [],
   "source": [
    "## Create and export a table of Matter fields with associated configurations\n",
    "# Construct a table listing matter custom fields with their IDs and descriptions\n",
    "MCFtable = []\n",
    "# for field in data['matterCustomFieldTypes']:\n",
    "#     sourceRecordID = field.get('sourceRecordId', '')\n",
    "#     field_name = field.get('name', '')\n",
    "#     field_datatype = field.get('dataType', '')\n",
    "#     field_description = field.get('description', '')\n",
    "#     MCFtable.append([sourceRecordID, field_datatype, '', field_name, field_description])\n",
    "\n",
    "# Append the matter fields to the table\n",
    "for field in data['matterFields']:\n",
    "    field_ID = field.get('name', '')\n",
    "    field_name = field.get('displayName', '')\n",
    "    # Check for a match between field_ID and the \"id\" key in matterObjectTypes\n",
    "    matched_object = next((obj for obj in data.get('matterObjectTypes', []) if obj.get('id') == field_ID), None)\n",
    "    if matched_object:\n",
    "        field_ID = matched_object.get('sourceRecordId', field_ID)\n",
    "    # Check for a match between field_ID and the \"id\" key in matterCustomFieldTypes\n",
    "    matched_object = next((obj for obj in data.get('matterCustomFieldTypes', []) if obj.get('id') == field_ID), None)\n",
    "    if matched_object:\n",
    "        field_ID = matched_object.get('sourceRecordId', field_ID)\n",
    "    field_datatype = field.get('dataTypeName', '')\n",
    "    field_type = field.get('fieldType', '')\n",
    "    field_description = field.get('description', '')\n",
    "    # Only append if the field_name is not already present in MCFtable (from matterCustomFieldTypes)\n",
    "    if field_name not in [row[1] for row in MCFtable]:\n",
    "        MCFtable.append([field_ID, field_datatype, field_type, field_name, field_description])\n",
    "\n",
    "# Sort the table by sourceRecordID (first column) in ascending order\n",
    "MCFtable_sorted = sorted(MCFtable, key=lambda x: x[0])\n",
    "#print(tabulate(MCFtable_sorted, headers=[\"Field ID\", \"Field Data Type\", \"Field Type\", \"Field Name\", \"Description\"], tablefmt=\"github\"))\n",
    "\n",
    "# Export the sorted table to a CSV file\n",
    "csv_path = r'\\\\docs-oc\\files\\KMOBAPPS\\Foundation\\MetaData\\foundation_matter_custom_fields_api.csv'\n",
    "with open(csv_path, mode='w', newline='', encoding='utf-8') as csvfile:\n",
    "    writer = csv.writer(csvfile)\n",
    "    writer.writerow([\"Field ID\", \"Field Data Type\", \"Field Type\", \"Field Name\", \"Description\"])\n",
    "    writer.writerows(MCFtable_sorted)\n",
    "print(f\"Matter Custom Field CSV exported to {csv_path}\")"
   ]
  },
  {
   "cell_type": "code",
   "execution_count": null,
   "id": "b0dd40af",
   "metadata": {},
   "outputs": [],
   "source": [
    "## Create and export a table of Person fields with associated configurations\n",
    "\n",
    "# Construct a table listing people custom fields with their IDs and descriptions\n",
    "PCFtable = []\n",
    "for field in data['personCustomFieldTypes']:\n",
    "    sourceRecordID = field.get('sourceRecordId', '')\n",
    "    field_name = field.get('name', '')\n",
    "    field_description = field.get('description', '')\n",
    "    PCFtable.append([sourceRecordID, field_name, field_description])\n",
    "\n",
    "# Append the pre-defined person fields to the table\n",
    "for field in data['personFields']:\n",
    "    field_ID = field.get('name', '')\n",
    "    field_name = field.get('displayName', '')\n",
    "    field_description = field.get('description', '')\n",
    "    # Only append if the field_name is not already present in PCFtable (from personCustomFieldTypes)\n",
    "    if field_name not in [row[1] for row in PCFtable]:\n",
    "        PCFtable.append([field_ID, field_name, field_description])\n",
    "\n",
    "# Sort the table by sourceRecordID (first column) in ascending order\n",
    "PCFtable_sorted = sorted(PCFtable, key=lambda x: x[0])\n",
    "print(tabulate(PCFtable_sorted, headers=[\"Field ID\", \"Field Name\", \"Description\"], tablefmt=\"github\"))\n",
    "\n",
    "# Export the sorted table to a CSV file\n",
    "# \\\\docs-oc\\files\\KMOBAPPS\\Foundation\\MetaData\n",
    "csv_path = r'\\\\docs-oc\\files\\KMOBAPPS\\Foundation\\MetaData\\foundation_person_custom_fields_api.csv'\n",
    "with open(csv_path, mode='w', newline='', encoding='utf-8') as csvfile:\n",
    "    writer = csv.writer(csvfile)\n",
    "    writer.writerow([\"Field ID\", \"Field Name\", \"Description\"])\n",
    "    writer.writerows(PCFtable_sorted)\n",
    "print(f\"Person Custom Field CSV exported to {csv_path}\")"
   ]
  },
  {
   "cell_type": "code",
   "execution_count": 12,
   "id": "98a1e574",
   "metadata": {},
   "outputs": [
    {
     "name": "stdout",
     "output_type": "stream",
     "text": [
      "{200}\n"
     ]
    }
   ],
   "source": [
    "## Query the Search API endpoint for firm people by individual office\n",
    "def search_people_by_office():\n",
    "    headers = get_foundation_headers()\n",
    "    url = f\"{base_url}search/search\"\n",
    "    office = input(\"Enter the office location to search for: \")\n",
    "    params = {\n",
    "        \"q\": f\"Person((OR(primaryOffice~{office})))\",\n",
    "    #    \"facetBehavior\": \"0\",\n",
    "    #    \"specificFacets\": \"string\",\n",
    "    #    \"sort\": \"string\",\n",
    "        \"take\": \"30\",\n",
    "        \"skip\": \"0\"\n",
    "    }\n",
    "    response = requests.get(url, headers=headers, params=params)\n",
    "    print({response.status_code})\n",
    "\n",
    "    if response.status_code == 200:\n",
    "        metadata = response.json()\n",
    "        #pprint(metadata)\n",
    "        return metadata\n",
    "    else:\n",
    "        print(f\"Error: {response.status_code} - {response.text}\")\n",
    "        return None\n",
    "    \n",
    "#search_response = search_people_by_office()\n",
    "\n",
    "# Download the metadata as a Python dictionary\n",
    "people_data = json.loads(json.dumps(search_people_by_office(), indent=4))"
   ]
  },
  {
   "cell_type": "code",
   "execution_count": null,
   "id": "af5c9ab6",
   "metadata": {},
   "outputs": [
    {
     "ename": "NameError",
     "evalue": "name 'MCFtable' is not defined",
     "output_type": "error",
     "traceback": [
      "\u001b[31m---------------------------------------------------------------------------\u001b[39m",
      "\u001b[31mNameError\u001b[39m                                 Traceback (most recent call last)",
      "\u001b[36mCell\u001b[39m\u001b[36m \u001b[39m\u001b[32mIn[14]\u001b[39m\u001b[32m, line 13\u001b[39m\n\u001b[32m     10\u001b[39m     people_by_office_table.append([person_ID, person_firstname, person_lastname, person_title, person_office])\n\u001b[32m     12\u001b[39m \u001b[38;5;66;03m# Sort the table by sourceRecordID (first column) in ascending order\u001b[39;00m\n\u001b[32m---> \u001b[39m\u001b[32m13\u001b[39m people_by_office_table_sorted = \u001b[38;5;28msorted\u001b[39m(\u001b[43mMCFtable\u001b[49m, key=\u001b[38;5;28;01mlambda\u001b[39;00m x: x[\u001b[32m0\u001b[39m])\n\u001b[32m     14\u001b[39m \u001b[38;5;28mprint\u001b[39m(tabulate(people_by_office_table_sorted, headers=[\u001b[33m\"\u001b[39m\u001b[33mPerson ID\u001b[39m\u001b[33m\"\u001b[39m, \u001b[33m\"\u001b[39m\u001b[33mFirst Name\u001b[39m\u001b[33m\"\u001b[39m, \u001b[33m\"\u001b[39m\u001b[33mLast Name\u001b[39m\u001b[33m\"\u001b[39m, \u001b[33m\"\u001b[39m\u001b[33mTitle\u001b[39m\u001b[33m\"\u001b[39m, \u001b[33m\"\u001b[39m\u001b[33mOffice\u001b[39m\u001b[33m\"\u001b[39m], tablefmt=\u001b[33m\"\u001b[39m\u001b[33mgithub\u001b[39m\u001b[33m\"\u001b[39m))\n",
      "\u001b[31mNameError\u001b[39m: name 'MCFtable' is not defined"
     ]
    }
   ],
   "source": [
    "people_by_office_table = []\n",
    "\n",
    "#Construct a table that lists lawyer data for the selected office\n",
    "for person in people_data['items']:\n",
    "    person_ID = person.get('id', '')\n",
    "    person_firstname = person.get('first', '')\n",
    "    person_lastname = person.get('last', '')\n",
    "    person_title = person.get('title', '')\n",
    "    person_office = person.get('primaryOffice', '')\n",
    "    people_by_office_table.append([person_ID, person_firstname, person_lastname, person_title, person_office])\n",
    "\n",
    "# Sort the table by sourceRecordID (first column) in ascending order\n",
    "people_by_office_table_sorted = sorted(people_by_office_table, key=lambda x: x[0])\n",
    "print(tabulate(people_by_office_table_sorted, headers=[\"Person ID\", \"First Name\", \"Last Name\", \"Title\", \"Office\"], tablefmt=\"github\"))"
   ]
  }
 ],
 "metadata": {
  "kernelspec": {
   "display_name": "Python 3",
   "language": "python",
   "name": "python3"
  },
  "language_info": {
   "codemirror_mode": {
    "name": "ipython",
    "version": 3
   },
   "file_extension": ".py",
   "mimetype": "text/x-python",
   "name": "python",
   "nbconvert_exporter": "python",
   "pygments_lexer": "ipython3",
   "version": "3.13.5"
  }
 },
 "nbformat": 4,
 "nbformat_minor": 5
}
